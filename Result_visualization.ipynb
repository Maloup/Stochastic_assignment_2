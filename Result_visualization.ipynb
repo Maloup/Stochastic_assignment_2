{
 "cells": [
  {
   "cell_type": "code",
   "execution_count": 13,
   "metadata": {},
   "outputs": [],
   "source": [
    "from matplotlib import pyplot as plt\n",
    "import numpy as np\n",
    "import multiprocessing as mp\n",
    "import queue\n",
    "import shelve\n",
    "\n"
   ]
  },
  {
   "cell_type": "code",
   "execution_count": 3,
   "metadata": {},
   "outputs": [],
   "source": [
    "from queue_function import run_queue_experiment, vary_t_worker, vary_rho_worker\n",
    "from util import initialize_parallel_rngs"
   ]
  },
  {
   "cell_type": "code",
   "execution_count": 3,
   "metadata": {},
   "outputs": [
    {
     "name": "stdout",
     "output_type": "stream",
     "text": [
      "9.581496027442084\n",
      "8.709777950915466\n"
     ]
    }
   ],
   "source": [
    "data = run_queue_experiment(rng=initialize_parallel_rngs(1, 9523)[0],\n",
    "                            time=20000, arrival_rate=0.9, capacity_server=1)\n",
    "print(np.mean(data.wait_times))\n",
    "print(np.mean(data.n_queue))"
   ]
  },
  {
   "cell_type": "code",
   "execution_count": 8,
   "metadata": {},
   "outputs": [],
   "source": [
    "from scipy import stats\n",
    "\n",
    "def sp_confidence_interval(samples, p=0.95):\n",
    "    \"\"\" Calculates the confidence interval (with p=95% unless noted otherwise) \n",
    "    Returns:\n",
    "         Confidence radius (int) based on samples.     \n",
    "    \"\"\"\n",
    "    a = stats.t.interval(p, df=len(samples)-1, loc=np.mean(samples), scale=stats.sem(samples))\n",
    "    return a[1] - a[0]"
   ]
  },
  {
   "cell_type": "code",
   "execution_count": 4,
   "metadata": {},
   "outputs": [],
   "source": [
    "#plot that shows how the mean wait time changes for multiple time intervals (so we can decide on the appropriate time)"
   ]
  },
  {
   "cell_type": "code",
   "execution_count": 5,
   "metadata": {},
   "outputs": [
    {
     "name": "stdout",
     "output_type": "stream",
     "text": [
      "17969\n",
      "17969\n"
     ]
    },
    {
     "data": {
      "image/png": "[encoded data removed]",
      "text/plain": [
       "<Figure size 432x288 with 1 Axes>"
      ]
     },
     "metadata": {
      "needs_background": "light"
     },
     "output_type": "display_data"
    }
   ],
   "source": [
    "print(len(data.times))\n",
    "print(len(data.wait_times))\n",
    "#print(data.wait_times)\n",
    "plt.plot(data.times, data.wait_times)\n",
    "#plt.plot(data.times, data.n_queue)\n",
    "#plt.hist(data.wait_times)\n",
    "plt.show()"
   ]
  },
  {
   "cell_type": "code",
   "execution_count": 6,
   "metadata": {},
   "outputs": [
    {
     "data": {
      "image/png": "[encoded data removed]",
      "text/plain": [
       "<Figure size 432x288 with 1 Axes>"
      ]
     },
     "metadata": {
      "needs_background": "light"
     },
     "output_type": "display_data"
    }
   ],
   "source": [
    "def vary_rho(seed, capacity_server, t_length=1e5, n_server=1, steps=10, n_runs=20):\n",
    "    manager = mp.Manager()\n",
    "    results = manager.list()\n",
    "    rhos = np.linspace(0.1 ,1, steps)\n",
    "    rngs = initialize_parallel_rngs(len(rhos), seed)\n",
    "\n",
    "    work_queue = mp.Queue()\n",
    "    \n",
    "    for i in range(n_runs):\n",
    "        results.append(manager.list())\n",
    "        for rho in rhos:\n",
    "            work_queue.put((rho, i))\n",
    "    \n",
    "    processes = []\n",
    "    for i in range(mp.cpu_count()):\n",
    "        p = mp.Process(target=vary_rho_worker, args=(\n",
    "            work_queue, results, rngs[i], t_length, capacity_server, n_server\n",
    "        ))\n",
    "        p.daemon = True\n",
    "        p.start()\n",
    "        processes.append(p)\n",
    "\n",
    "     for p in processes:\n",
    "        p.join()\n",
    "\n",
    "    return  [list(t) for t in results], rhos  \n"
   ]
  },
  {
   "cell_type": "code",
   "execution_count": null,
   "metadata": {},
   "outputs": [],
   "source": [
    "\n",
    "run_data, rhos = vary_rho()\n",
    "run_data_mean = np.mean(run_data, axis=0)\n",
    "run_data_std = np.std(run_data, axis=0, ddof=1)\n",
    "plt.plot(rhos, run_data_mean)\n",
    "plt.fill_between(rhos, run_data_mean - run_data_std, run_data_mean + run_data_std, alpha=0.1)\n",
    "plt.show()"
   ]
  },
  {
   "cell_type": "code",
   "execution_count": 4,
   "metadata": {},
   "outputs": [],
   "source": [
    "\n",
    "def vary_t(min_exp, max_exp, seed, arrival_rate, capacity_server, n_server=1, steps=10, n_runs=5):\n",
    "    manager = mp.Manager()\n",
    "    results = manager.list()\n",
    "    t_range = np.logspace(min_exp, max_exp, num=((max_exp - min_exp) + 1)*steps, dtype=int)\n",
    "    \n",
    "    work_queue = mp.Queue()\n",
    "    for i in range(n_runs):\n",
    "        results.append(manager.list())\n",
    "        for t in t_range:\n",
    "            work_queue.put((t, i))\n",
    "    \n",
    "    rngs = initialize_parallel_rngs(mp.cpu_count(), seed)\n",
    "    processes = []\n",
    "\n",
    "    for i in range(mp.cpu_count()):\n",
    "        p = mp.Process(target=vary_t_worker, args=(\n",
    "            work_queue, results, rngs[i], arrival_rate, capacity_server, n_server\n",
    "        ))\n",
    "        p.daemon = True\n",
    "        p.start()\n",
    "        processes.append(p)\n",
    "\n",
    "    for p in processes:\n",
    "        p.join()\n",
    "\n",
    "    return  [list(t) for t in results], t_range"
   ]
  },
  {
   "cell_type": "code",
   "execution_count": 15,
   "metadata": {},
   "outputs": [],
   "source": [
    "#shelf = shelve.open(\"Arrays/t_parameter\")\n",
    "#vary_t_results, t_range = vary_t(min_exp=3, max_exp=7, seed=8539, arrival_rate=0.8, capacity_server=1,\n",
    "#                                 n_runs=50, steps=5)\n",
    "\n",
    "#shelf[\"vary_t_results\"] = vary_t_results\n",
    "#shelf[\"t_range\"] = t_range\n",
    "#shelf.close()"
   ]
  },
  {
   "cell_type": "code",
   "execution_count": null,
   "metadata": {},
   "outputs": [],
   "source": [
    "shelf = shelve.open(\"Arrays/t_parameter\")\n",
    "vary_t_results = shelf[\"vary_t_results\"] \n",
    "t_range = shelf[\"t_range\"] \n",
    "shelf.close()"
   ]
  },
  {
   "cell_type": "code",
   "execution_count": 11,
   "metadata": {},
   "outputs": [
    {
     "data": {
      "image/png": "[encoded data removed]",
      "text/plain": [
       "<Figure size 432x288 with 1 Axes>"
      ]
     },
     "metadata": {
      "needs_background": "light"
     },
     "output_type": "display_data"
    }
   ],
   "source": [
    "results = [list(t) for t in vary_t_results]\n",
    "results_means = np.mean(results, axis=0)\n",
    "a = [sp_confidence_interval(samples) for samples in np.array(results).T]\n",
    "plt.plot(t_range, results_means)\n",
    "plt.fill_between(t_range, results_means - a, results_means + a, alpha=0.1)\n",
    "plt.xlabel(\"t\")\n",
    "plt.xscale(\"log\")\n",
    "plt.ylabel(\"E(W)\")\n",
    "plt.show()"
   ]
  },
  {
   "cell_type": "code",
   "execution_count": null,
   "metadata": {},
   "outputs": [],
   "source": []
  }
 ],
 "metadata": {
  "interpreter": {
   "hash": "9fd2a084ee41392a2c2e6f8fc41057bc9951f5151a060feca4bba01de5a10a89"
  },
  "kernelspec": {
   "display_name": "Python 3 (ipykernel)",
   "language": "python",
   "name": "python3"
  },
  "language_info": {
   "codemirror_mode": {
    "name": "ipython",
    "version": 3
   },
   "file_extension": ".py",
   "mimetype": "text/x-python",
   "name": "python",
   "nbconvert_exporter": "python",
   "pygments_lexer": "ipython3",
   "version": "3.8.12"
  }
 },
 "nbformat": 4,
 "nbformat_minor": 2
}
