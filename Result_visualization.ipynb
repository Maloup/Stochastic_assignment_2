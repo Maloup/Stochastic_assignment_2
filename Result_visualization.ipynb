{
 "cells": [
  {
   "cell_type": "code",
   "execution_count": 7,
   "metadata": {},
   "outputs": [],
   "source": [
    "from matplotlib import pyplot as plt\n",
    "import numpy as np"
   ]
  },
  {
   "cell_type": "code",
   "execution_count": 8,
   "metadata": {},
   "outputs": [],
   "source": [
    "from queue_function import run_queue_experiment\n",
    "from util import initialize_parallel_rngs"
   ]
  },
  {
   "cell_type": "code",
   "execution_count": 9,
   "metadata": {},
   "outputs": [
    {
     "name": "stdout",
     "output_type": "stream",
     "text": [
      "9.581496027442084\n",
      "8.709777950915466\n"
     ]
    }
   ],
   "source": [
    "data = run_queue_experiment(rng=initialize_parallel_rngs(1, 9523)[0],\n",
    "                            time=20000, arrival_rate=0.9, capacity_server=1)\n",
    "print(np.mean(data.wait_times))\n",
    "print(np.mean(data.n_queue))"
   ]
  },
  {
   "cell_type": "code",
   "execution_count": 10,
   "metadata": {},
   "outputs": [],
   "source": [
    "#plot that shows how the mean wait time changes for multiple time intervals (so we can decide on the appropriate time)"
   ]
  },
  {
   "cell_type": "code",
   "execution_count": 11,
   "metadata": {},
   "outputs": [
    {
     "name": "stdout",
     "output_type": "stream",
     "text": [
      "17969\n",
      "17969\n"
     ]
    },
    {
     "data": {
      "image/png": "[encoded data removed]",
      "text/plain": [
       "<Figure size 432x288 with 1 Axes>"
      ]
     },
     "metadata": {
      "needs_background": "light"
     },
     "output_type": "display_data"
    }
   ],
   "source": [
    "print(len(data.times))\n",
    "print(len(data.wait_times))\n",
    "#print(data.wait_times)\n",
    "plt.plot(data.times, data.wait_times)\n",
    "#plt.plot(data.times, data.n_queue)\n",
    "#plt.hist(data.wait_times)\n",
    "plt.show()"
   ]
  },
  {
   "cell_type": "code",
   "execution_count": 12,
   "metadata": {},
   "outputs": [
    {
     "data": {
      "image/png": "[encoded data removed]",
      "text/plain": [
       "<Figure size 432x288 with 1 Axes>"
      ]
     },
     "metadata": {
      "needs_background": "light"
     },
     "output_type": "display_data"
    }
   ],
   "source": [
    "def vary_rho():\n",
    "    capacity_server = 1\n",
    "    n_runs = 10\n",
    "    rhos = np.linspace(0.1 ,1, 10)\n",
    "    run_data = []\n",
    "    rngs = initialize_parallel_rngs(len(rhos), 89191)\n",
    "    for run in range(n_runs):\n",
    "        rho_data = []\n",
    "        for i, rho in enumerate(rhos):\n",
    "            data = run_queue_experiment(rng=rngs[i], time=20000, arrival_rate=rho*capacity_server,\n",
    "                                        capacity_server=capacity_server)\n",
    "            rho_data.append(np.mean(data.wait_times))\n",
    "        run_data.append(rho_data)\n",
    "    run_data = np.array(run_data)\n",
    "    return run_data, rhos\n",
    "\n",
    "run_data, rhos = vary_rho()\n",
    "run_data_mean = np.mean(run_data, axis=0)\n",
    "run_data_std = np.std(run_data, axis=0, ddof=1)\n",
    "plt.plot(rhos, run_data_mean)\n",
    "plt.fill_between(rhos, run_data_mean - run_data_std, run_data_mean + run_data_std, alpha=0.1)\n",
    "plt.show()"
   ]
  },
  {
   "cell_type": "code",
   "execution_count": 13,
   "metadata": {},
   "outputs": [],
   "source": [
    "import multiprocessing as mp\n",
    "import queue\n",
    "from queue_function import vary_t_worker\n",
    "\n",
    "def vary_t(min_exp, max_exp, seed, arrival_rate, capacity_server, n_server=1, steps=6, n_runs=50):\n",
    "    manager = mp.Manager()\n",
    "    results = manager.list()\n",
    "    t_range = np.logspace(min_exp, max_exp, num=((max_exp - min_exp) + 1)*steps, dtype=int)\n",
    "    \n",
    "    work_queue = mp.Queue()\n",
    "    for i in range(n_runs):\n",
    "        results.append(manager.list())\n",
    "        for t in t_range:\n",
    "            work_queue.put((t, i))\n",
    "    \n",
    "    rngs = initialize_parallel_rngs(mp.cpu_count(), seed)\n",
    "    processes = []\n",
    "\n",
    "    for i in range(mp.cpu_count()):\n",
    "        p = mp.Process(target=vary_t_worker, args=(\n",
    "            work_queue, results, rngs[i], arrival_rate, capacity_server, n_server\n",
    "        ))\n",
    "        p.daemon = True\n",
    "        p.start()\n",
    "        processes.append(p)\n",
    "\n",
    "    for p in processes:\n",
    "        p.join()\n",
    "\n",
    "    return results, t_range"
   ]
  },
  {
   "cell_type": "code",
   "execution_count": 14,
   "metadata": {},
   "outputs": [
    {
     "name": "stderr",
     "output_type": "stream",
     "text": [
      "Process Process-5:\n",
      "Process Process-4:\n",
      "Traceback (most recent call last):\n",
      "Process Process-2:\n",
      "Traceback (most recent call last):\n",
      "  File \"/home/soud/UvA/Stochastic Simulation/Stochastic_assignment_2/queue_function.py\", line 35, in source\n",
      "    yield env.timeout(t)\n",
      "Process Process-3:\n",
      "  File \"/usr/lib/python3.8/multiprocessing/process.py\", line 315, in _bootstrap\n",
      "    self.run()\n",
      "Traceback (most recent call last):\n",
      "  File \"/home/soud/UvA/Stochastic Simulation/Stochastic_assignment_2/queue_function.py\", line 55, in customer\n",
      "    yield env.timeout(tib)\n",
      "  File \"/home/soud/.local/lib/python3.8/site-packages/simpy/events.py\", line 237, in __init__\n",
      "    self._delay = delay\n",
      "  File \"/usr/lib/python3.8/multiprocessing/process.py\", line 108, in run\n",
      "    self._target(*self._args, **self._kwargs)\n",
      "Traceback (most recent call last):\n",
      "KeyboardInterrupt\n",
      "  File \"/home/soud/.local/lib/python3.8/site-packages/simpy/resources/resource.py\", line 89, in __exit__\n",
      "    self.resource.release(self)\n",
      "  File \"/home/soud/.local/lib/python3.8/site-packages/simpy/events.py\", line 239, in __init__\n",
      "    env.schedule(self, NORMAL, delay)\n",
      "  File \"/home/soud/UvA/Stochastic Simulation/Stochastic_assignment_2/queue_function.py\", line 55, in customer\n",
      "    yield env.timeout(tib)\n",
      "  File \"/home/soud/UvA/Stochastic Simulation/Stochastic_assignment_2/queue_function.py\", line 85, in vary_t_worker\n",
      "    queue_data = run_queue_experiment(rng, t, arrival_rate, capacity_server,\n",
      "  File \"/home/soud/.local/lib/python3.8/site-packages/simpy/resources/resource.py\", line 102, in __init__\n",
      "    super().__init__(resource)\n",
      "\n",
      "The above exception was the direct cause of the following exception:\n",
      "\n",
      "  File \"/home/soud/.local/lib/python3.8/site-packages/simpy/resources/base.py\", line 100, in __init__\n",
      "    self.callbacks.append(resource._trigger_put)\n",
      "  File \"/home/soud/.local/lib/python3.8/site-packages/simpy/core.py\", line 173, in schedule\n",
      "    (self._now + delay, priority, next(self._eid), event))\n",
      "KeyboardInterrupt\n",
      "  File \"/home/soud/UvA/Stochastic Simulation/Stochastic_assignment_2/queue_function.py\", line 73, in run_queue_experiment\n",
      "    env.run(until=time)\n",
      "\n",
      "The above exception was the direct cause of the following exception:\n",
      "\n",
      "Traceback (most recent call last):\n",
      "  File \"/home/soud/.local/lib/python3.8/site-packages/simpy/core.py\", line 254, in run\n",
      "    self.step()\n"
     ]
    },
    {
     "ename": "KeyboardInterrupt",
     "evalue": "",
     "output_type": "error",
     "traceback": [
      "\u001b[0;31m---------------------------------------------------------------------------\u001b[0m",
      "\u001b[0;31mKeyboardInterrupt\u001b[0m                         Traceback (most recent call last)",
      "\u001b[0;32m/tmp/ipykernel_427168/1370769366.py\u001b[0m in \u001b[0;36m<module>\u001b[0;34m\u001b[0m\n\u001b[0;32m----> 1\u001b[0;31m vary_t_results, t_range = vary_t(min_exp=3, max_exp=6, seed=8539, arrival_rate=0.8, capacity_server=1,\n\u001b[0m\u001b[1;32m      2\u001b[0m                                  n_runs=10)\n",
      "\u001b[0;32m/tmp/ipykernel_427168/3090249514.py\u001b[0m in \u001b[0;36mvary_t\u001b[0;34m(min_exp, max_exp, seed, arrival_rate, capacity_server, n_server, steps, n_runs)\u001b[0m\n\u001b[1;32m     26\u001b[0m \u001b[0;34m\u001b[0m\u001b[0m\n\u001b[1;32m     27\u001b[0m     \u001b[0;32mfor\u001b[0m \u001b[0mp\u001b[0m \u001b[0;32min\u001b[0m \u001b[0mprocesses\u001b[0m\u001b[0;34m:\u001b[0m\u001b[0;34m\u001b[0m\u001b[0;34m\u001b[0m\u001b[0m\n\u001b[0;32m---> 28\u001b[0;31m         \u001b[0mp\u001b[0m\u001b[0;34m.\u001b[0m\u001b[0mjoin\u001b[0m\u001b[0;34m(\u001b[0m\u001b[0;34m)\u001b[0m\u001b[0;34m\u001b[0m\u001b[0;34m\u001b[0m\u001b[0m\n\u001b[0m\u001b[1;32m     29\u001b[0m \u001b[0;34m\u001b[0m\u001b[0m\n\u001b[1;32m     30\u001b[0m     \u001b[0;32mreturn\u001b[0m \u001b[0mresults\u001b[0m\u001b[0;34m,\u001b[0m \u001b[0mt_range\u001b[0m\u001b[0;34m\u001b[0m\u001b[0;34m\u001b[0m\u001b[0m\n",
      "\u001b[0;32m/usr/lib/python3.8/multiprocessing/process.py\u001b[0m in \u001b[0;36mjoin\u001b[0;34m(self, timeout)\u001b[0m\n\u001b[1;32m    147\u001b[0m         \u001b[0;32massert\u001b[0m \u001b[0mself\u001b[0m\u001b[0;34m.\u001b[0m\u001b[0m_parent_pid\u001b[0m \u001b[0;34m==\u001b[0m \u001b[0mos\u001b[0m\u001b[0;34m.\u001b[0m\u001b[0mgetpid\u001b[0m\u001b[0;34m(\u001b[0m\u001b[0;34m)\u001b[0m\u001b[0;34m,\u001b[0m \u001b[0;34m'can only join a child process'\u001b[0m\u001b[0;34m\u001b[0m\u001b[0;34m\u001b[0m\u001b[0m\n\u001b[1;32m    148\u001b[0m         \u001b[0;32massert\u001b[0m \u001b[0mself\u001b[0m\u001b[0;34m.\u001b[0m\u001b[0m_popen\u001b[0m \u001b[0;32mis\u001b[0m \u001b[0;32mnot\u001b[0m \u001b[0;32mNone\u001b[0m\u001b[0;34m,\u001b[0m \u001b[0;34m'can only join a started process'\u001b[0m\u001b[0;34m\u001b[0m\u001b[0;34m\u001b[0m\u001b[0m\n\u001b[0;32m--> 149\u001b[0;31m         \u001b[0mres\u001b[0m \u001b[0;34m=\u001b[0m \u001b[0mself\u001b[0m\u001b[0;34m.\u001b[0m\u001b[0m_popen\u001b[0m\u001b[0;34m.\u001b[0m\u001b[0mwait\u001b[0m\u001b[0;34m(\u001b[0m\u001b[0mtimeout\u001b[0m\u001b[0;34m)\u001b[0m\u001b[0;34m\u001b[0m\u001b[0;34m\u001b[0m\u001b[0m\n\u001b[0m\u001b[1;32m    150\u001b[0m         \u001b[0;32mif\u001b[0m \u001b[0mres\u001b[0m \u001b[0;32mis\u001b[0m \u001b[0;32mnot\u001b[0m \u001b[0;32mNone\u001b[0m\u001b[0;34m:\u001b[0m\u001b[0;34m\u001b[0m\u001b[0;34m\u001b[0m\u001b[0m\n\u001b[1;32m    151\u001b[0m             \u001b[0m_children\u001b[0m\u001b[0;34m.\u001b[0m\u001b[0mdiscard\u001b[0m\u001b[0;34m(\u001b[0m\u001b[0mself\u001b[0m\u001b[0;34m)\u001b[0m\u001b[0;34m\u001b[0m\u001b[0;34m\u001b[0m\u001b[0m\n",
      "\u001b[0;32m/usr/lib/python3.8/multiprocessing/popen_fork.py\u001b[0m in \u001b[0;36mwait\u001b[0;34m(self, timeout)\u001b[0m\n\u001b[1;32m     45\u001b[0m                     \u001b[0;32mreturn\u001b[0m \u001b[0;32mNone\u001b[0m\u001b[0;34m\u001b[0m\u001b[0;34m\u001b[0m\u001b[0m\n\u001b[1;32m     46\u001b[0m             \u001b[0;31m# This shouldn't block if wait() returned successfully.\u001b[0m\u001b[0;34m\u001b[0m\u001b[0;34m\u001b[0m\u001b[0;34m\u001b[0m\u001b[0m\n\u001b[0;32m---> 47\u001b[0;31m             \u001b[0;32mreturn\u001b[0m \u001b[0mself\u001b[0m\u001b[0;34m.\u001b[0m\u001b[0mpoll\u001b[0m\u001b[0;34m(\u001b[0m\u001b[0mos\u001b[0m\u001b[0;34m.\u001b[0m\u001b[0mWNOHANG\u001b[0m \u001b[0;32mif\u001b[0m \u001b[0mtimeout\u001b[0m \u001b[0;34m==\u001b[0m \u001b[0;36m0.0\u001b[0m \u001b[0;32melse\u001b[0m \u001b[0;36m0\u001b[0m\u001b[0;34m)\u001b[0m\u001b[0;34m\u001b[0m\u001b[0;34m\u001b[0m\u001b[0m\n\u001b[0m\u001b[1;32m     48\u001b[0m         \u001b[0;32mreturn\u001b[0m \u001b[0mself\u001b[0m\u001b[0;34m.\u001b[0m\u001b[0mreturncode\u001b[0m\u001b[0;34m\u001b[0m\u001b[0;34m\u001b[0m\u001b[0m\n\u001b[1;32m     49\u001b[0m \u001b[0;34m\u001b[0m\u001b[0m\n",
      "\u001b[0;32m/usr/lib/python3.8/multiprocessing/popen_fork.py\u001b[0m in \u001b[0;36mpoll\u001b[0;34m(self, flag)\u001b[0m\n\u001b[1;32m     25\u001b[0m         \u001b[0;32mif\u001b[0m \u001b[0mself\u001b[0m\u001b[0;34m.\u001b[0m\u001b[0mreturncode\u001b[0m \u001b[0;32mis\u001b[0m \u001b[0;32mNone\u001b[0m\u001b[0;34m:\u001b[0m\u001b[0;34m\u001b[0m\u001b[0;34m\u001b[0m\u001b[0m\n\u001b[1;32m     26\u001b[0m             \u001b[0;32mtry\u001b[0m\u001b[0;34m:\u001b[0m\u001b[0;34m\u001b[0m\u001b[0;34m\u001b[0m\u001b[0m\n\u001b[0;32m---> 27\u001b[0;31m                 \u001b[0mpid\u001b[0m\u001b[0;34m,\u001b[0m \u001b[0msts\u001b[0m \u001b[0;34m=\u001b[0m \u001b[0mos\u001b[0m\u001b[0;34m.\u001b[0m\u001b[0mwaitpid\u001b[0m\u001b[0;34m(\u001b[0m\u001b[0mself\u001b[0m\u001b[0;34m.\u001b[0m\u001b[0mpid\u001b[0m\u001b[0;34m,\u001b[0m \u001b[0mflag\u001b[0m\u001b[0;34m)\u001b[0m\u001b[0;34m\u001b[0m\u001b[0;34m\u001b[0m\u001b[0m\n\u001b[0m\u001b[1;32m     28\u001b[0m             \u001b[0;32mexcept\u001b[0m \u001b[0mOSError\u001b[0m \u001b[0;32mas\u001b[0m \u001b[0me\u001b[0m\u001b[0;34m:\u001b[0m\u001b[0;34m\u001b[0m\u001b[0;34m\u001b[0m\u001b[0m\n\u001b[1;32m     29\u001b[0m                 \u001b[0;31m# Child process not yet created. See #1731717\u001b[0m\u001b[0;34m\u001b[0m\u001b[0;34m\u001b[0m\u001b[0;34m\u001b[0m\u001b[0m\n",
      "\u001b[0;31mKeyboardInterrupt\u001b[0m: "
     ]
    },
    {
     "name": "stderr",
     "output_type": "stream",
     "text": [
      "KeyboardInterrupt\n",
      "Traceback (most recent call last):\n",
      "  File \"/usr/lib/python3.8/multiprocessing/process.py\", line 315, in _bootstrap\n",
      "    self.run()\n",
      "  File \"/usr/lib/python3.8/multiprocessing/process.py\", line 315, in _bootstrap\n",
      "    self.run()\n",
      "\n",
      "The above exception was the direct cause of the following exception:\n",
      "\n",
      "  File \"/home/soud/.local/lib/python3.8/site-packages/simpy/core.py\", line 190, in step\n",
      "    self._now, _, _, event = heappop(self._queue)\n",
      "  File \"/usr/lib/python3.8/multiprocessing/process.py\", line 108, in run\n",
      "    self._target(*self._args, **self._kwargs)\n",
      "Traceback (most recent call last):\n",
      "  File \"/usr/lib/python3.8/multiprocessing/process.py\", line 108, in run\n",
      "    self._target(*self._args, **self._kwargs)\n",
      "KeyboardInterrupt\n",
      "  File \"/home/soud/UvA/Stochastic Simulation/Stochastic_assignment_2/queue_function.py\", line 85, in vary_t_worker\n",
      "    queue_data = run_queue_experiment(rng, t, arrival_rate, capacity_server,\n",
      "  File \"/usr/lib/python3.8/multiprocessing/process.py\", line 315, in _bootstrap\n",
      "    self.run()\n",
      "  File \"/usr/lib/python3.8/multiprocessing/process.py\", line 108, in run\n",
      "    self._target(*self._args, **self._kwargs)\n",
      "  File \"/home/soud/UvA/Stochastic Simulation/Stochastic_assignment_2/queue_function.py\", line 85, in vary_t_worker\n",
      "    queue_data = run_queue_experiment(rng, t, arrival_rate, capacity_server,\n",
      "  File \"/home/soud/UvA/Stochastic Simulation/Stochastic_assignment_2/queue_function.py\", line 73, in run_queue_experiment\n",
      "    env.run(until=time)\n",
      "  File \"/home/soud/UvA/Stochastic Simulation/Stochastic_assignment_2/queue_function.py\", line 73, in run_queue_experiment\n",
      "    env.run(until=time)\n",
      "  File \"/home/soud/.local/lib/python3.8/site-packages/simpy/core.py\", line 254, in run\n",
      "    self.step()\n",
      "  File \"/home/soud/.local/lib/python3.8/site-packages/simpy/core.py\", line 206, in step\n",
      "    raise exc\n",
      "KeyboardInterrupt\n",
      "  File \"/home/soud/.local/lib/python3.8/site-packages/simpy/core.py\", line 254, in run\n",
      "    self.step()\n",
      "  File \"/home/soud/UvA/Stochastic Simulation/Stochastic_assignment_2/queue_function.py\", line 85, in vary_t_worker\n",
      "    queue_data = run_queue_experiment(rng, t, arrival_rate, capacity_server,\n",
      "  File \"/home/soud/UvA/Stochastic Simulation/Stochastic_assignment_2/queue_function.py\", line 73, in run_queue_experiment\n",
      "    env.run(until=time)\n",
      "  File \"/home/soud/.local/lib/python3.8/site-packages/simpy/core.py\", line 206, in step\n",
      "    raise exc\n",
      "KeyboardInterrupt\n",
      "  File \"/home/soud/.local/lib/python3.8/site-packages/simpy/core.py\", line 254, in run\n",
      "    self.step()\n",
      "  File \"/home/soud/.local/lib/python3.8/site-packages/simpy/core.py\", line 206, in step\n",
      "    raise exc\n",
      "KeyboardInterrupt\n"
     ]
    }
   ],
   "source": [
    "vary_t_results, t_range = vary_t(min_exp=3, max_exp=6, seed=8539, arrival_rate=0.8, capacity_server=1,\n",
    "                                 n_runs=10)"
   ]
  }
 ],
 "metadata": {
  "interpreter": {
   "hash": "9fd2a084ee41392a2c2e6f8fc41057bc9951f5151a060feca4bba01de5a10a89"
  },
  "kernelspec": {
   "display_name": "Python 3 (ipykernel)",
   "language": "python",
   "name": "python3"
  },
  "language_info": {
   "codemirror_mode": {
    "name": "ipython",
    "version": 3
   },
   "file_extension": ".py",
   "mimetype": "text/x-python",
   "name": "python",
   "nbconvert_exporter": "python",
   "pygments_lexer": "ipython3",
   "version": "3.8.10"
  }
 },
 "nbformat": 4,
 "nbformat_minor": 2
}
